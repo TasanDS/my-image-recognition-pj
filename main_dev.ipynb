{
 "cells": [
  {
   "cell_type": "code",
   "execution_count": 92,
   "id": "2b68c21a-32b3-4e4f-aec9-fdf4a6df0d3f",
   "metadata": {},
   "outputs": [],
   "source": [
    "import glob\n",
    "import matplotlib.pyplot as plt\n",
    "import numpy as np\n",
    "import os.path as osp\n",
    "import pandas as pd\n",
    "from PIL import Image\n",
    "import random\n",
    "import seaborn as sns\n",
    "from sklearn.model_selection import train_test_split\n",
    "import torch\n",
    "from torch import nn\n",
    "from torch import optim\n",
    "from torch.utils.data import Dataset, DataLoader\n",
    "from torch.nn import functional as F\n",
    "import torchvision\n",
    "from torchvision import models, transforms\n",
    "from tqdm import tqdm\n",
    "\n",
    "%matplotlib inline"
   ]
  },
  {
   "cell_type": "code",
   "execution_count": 40,
   "id": "f46c1a9f-dfbd-43ed-85be-7c05427a9a05",
   "metadata": {},
   "outputs": [],
   "source": [
    "def set_seed(seed=1234):\n",
    "    torch.manual_seed(seed)\n",
    "    np.random.seed(seed)\n",
    "    random.seed(seed)\n",
    "\n",
    "set_seed(1234)"
   ]
  },
  {
   "cell_type": "code",
   "execution_count": 42,
   "id": "8e7a37cf-04fc-4511-859b-d037378e20a9",
   "metadata": {},
   "outputs": [],
   "source": [
    "def set_gpu(gpu='cude:0'):\n",
    "    device = torch.device(gpu if torch.cuda.is_available() else 'cpu')\n",
    "    torch.backends.cudnn.deterministic = True\n",
    "    torch.backends.cudnn.benchmark = False\n",
    "    return device\n",
    "\n",
    "device = set_gpu('cuda:0')"
   ]
  },
  {
   "cell_type": "code",
   "execution_count": 53,
   "id": "73c2cd29-9403-4448-8ebb-b8625bedafcf",
   "metadata": {},
   "outputs": [],
   "source": [
    "train_label_master = pd.read_csv('./data/train_master.tsv', sep='\\t')\n",
    "label_master = pd.read_csv('./data/label_master.tsv', sep='\\t')\n",
    "train_label_master = train_label_master.merge(label_master, how='left', on='label_id')"
   ]
  },
  {
   "cell_type": "code",
   "execution_count": 95,
   "id": "014d77e5-ac51-407e-9c16-eb5661674abf",
   "metadata": {},
   "outputs": [],
   "source": [
    "class ImageTransform():\n",
    "    \"\"\"\n",
    "    Image preprocessing class.\n",
    "    Make transforms for train and val as a dictionary.\n",
    "    Data augmentation is performed for training.\n",
    "\n",
    "    Attributes\n",
    "    ----------\n",
    "    resize: int\n",
    "        Image size after resized\n",
    "    mean: (R, G, B)\n",
    "        Mean value of each channel\n",
    "    std: (R, G, B)\n",
    "        Std value of each channel\n",
    "    \"\"\"\n",
    "    \n",
    "    def __init__(self, resize, mean, std):\n",
    "        self.data_transform = {\n",
    "            'train': transforms.Compose([\n",
    "                transforms.RandomResizedCrop(resize, scale=(0.5, 1.0)),\n",
    "                transforms.RandomHorizontalFlip(),\n",
    "                transforms.RandomRotation(10),\n",
    "                transforms.RandomAffine(0, shear=10, scale=(0.8, 1.2)),\n",
    "                transforms.ColorJitter(brightness=0.2, contrast=0.2, saturation=0.2),\n",
    "                transforms.ToTensor(),\n",
    "                transforms.Normalize(mean, std)\n",
    "            ]),\n",
    "            'val': transforms.Compose([\n",
    "                transforms.Resize(resize),\n",
    "                transforms.CenterCrop(resize),\n",
    "                transforms.ToTensor(),\n",
    "                transforms.Normalize(mean, std)\n",
    "            ]),\n",
    "            'test': transforms.Compose([\n",
    "                transforms.Resize(resize),\n",
    "                transforms.CenterCrop(resize),\n",
    "                transforms.ToTensor(),\n",
    "                transforms.Normalize(mean, std)\n",
    "            ])\n",
    "        }\n",
    "\n",
    "    def __call__(self, img, phase='train'):\n",
    "        \"\"\"\n",
    "        Parameters\n",
    "        ----------\n",
    "        phase: 'train' or 'val' or 'test'\n",
    "            Specify the preprocessing mode.\n",
    "        \"\"\"\n",
    "        return self.data_transform[phase](img)"
   ]
  },
  {
   "cell_type": "code",
   "execution_count": 101,
   "id": "1f02dcc8-6fda-4e72-91cc-5a9767bcaecf",
   "metadata": {},
   "outputs": [],
   "source": [
    "def make_data_path_list(phase='train', rootpath='./data/'):\n",
    "\n",
    "    target_path = osp.join(rootpath+phase+'/**.png')\n",
    "    path_list = []\n",
    "\n",
    "    for path in glob.glob(target_path):\n",
    "        path_list.append(path)\n",
    "        \n",
    "    return path_list"
   ]
  },
  {
   "cell_type": "code",
   "execution_count": 109,
   "id": "a15627ff-bdd1-4aa3-a532-30fc9137d0b7",
   "metadata": {},
   "outputs": [],
   "source": [
    "class ImageDataset(Dataset):\n",
    "    def __init__(self, file_list, train_label_master, transform=None, phase='train'):\n",
    "        self.file_list = file_list\n",
    "        self.transform = transform\n",
    "        self.phase = phase\n",
    "\n",
    "    def __len__(self):\n",
    "        return len(self.file_list)\n",
    "\n",
    "    def __getitem__(self, index):\n",
    "\n",
    "        img_path = self.file_list[index]\n",
    "        img = Image.open(img_path)\n",
    "\n",
    "        img_transformed = self.transform(\n",
    "            img, self.phase)\n",
    "\n",
    "        label = train_label_master[train_label_master['file_name']==img_path[13:]]['label_id'].item()\n",
    "\n",
    "        return img_transformed, label"
   ]
  },
  {
   "cell_type": "code",
   "execution_count": 119,
   "id": "1f69b7e1-8682-4f4b-8f28-4abbf58ff214",
   "metadata": {},
   "outputs": [],
   "source": [
    "def train_model(net, dataloaders_dict, criterion, optimizer, num_epochs):\n",
    "    for epoch in range(num_epochs):\n",
    "        print(f'Epoch {epoch+1}/{num_epochs}')\n",
    "        print('---------------')\n",
    "\n",
    "    for phase in ['train', 'val']:\n",
    "        if phase == 'train':\n",
    "            net.train()\n",
    "        else:\n",
    "            net.eval()\n",
    "\n",
    "        epoch_loss = 0.0\n",
    "        epoch_corrects = 0\n",
    "\n",
    "        if (epoch == 0) and (phase == 'train'):\n",
    "            continue\n",
    "\n",
    "        for inputs, labels in tqdm(dataloaders_dict[phase]):\n",
    "            optimizer.zero_grad()\n",
    "\n",
    "            with torch.set_grad_enabled(phase=='train'):\n",
    "                outputs = net(inputs)\n",
    "                loss = criterion(outputs, labels)\n",
    "                _, preds = torch.max(outputs, 1)\n",
    "\n",
    "                if phase == 'train':\n",
    "                    loss.backward()\n",
    "                    optimizer.step()\n",
    "\n",
    "            epoch_loss += loss.item() * inputs.size(0)\n",
    "\n",
    "            epoch_corrects += torch.sum(preds == labels.data)\n",
    "\n",
    "        epoch_loss = epoch_loss / len(dataloaders_dict[phase].dataset)\n",
    "        epoch_acc = epoch_corrects.double(\n",
    "        ) / len(dataloders_dict[phase].dataset)\n",
    "\n",
    "        print(f'{phase} Loss: {epoch_loss:.4f} Acc: {epoch_acc:.4f}')"
   ]
  },
  {
   "cell_type": "code",
   "execution_count": 111,
   "id": "6011abef-d32a-4acf-bb05-cd4ff8167305",
   "metadata": {},
   "outputs": [],
   "source": [
    "size = 32\n",
    "mean = (0.5, 0.5, 0.5)\n",
    "std = (0.5, 0.5, 0.5)\n",
    "\n",
    "train_val_list = make_data_path_list(phase='train', rootpath='./data/')\n",
    "random.shuffle(train_val_list)\n",
    "train_list = train_val_list[:int(len(train_val_list)*0.8)]\n",
    "val_list = train_val_list[int(len(train_val_list)*0.8):]\n",
    "\n",
    "train_dataset = ImageDataset(file_list=train_list, train_label_master=train_label_master, transform=ImageTransform(size, mean, std), phase='train')\n",
    "val_dataset = ImageDataset(file_list=val_list, train_label_master=train_label_master, transform=ImageTransform(size, mean, std), phase='val')\n",
    "\n",
    "batch_size = 32\n",
    "train_dataloader = DataLoader(train_dataset, batch_size=batch_size, shuffle=True)\n",
    "val_dataloader = DataLoader(val_dataset, batch_size=batch_size, shuffle=True)\n",
    "\n",
    "dataloaders_dict = {'train': train_dataloader, 'val': val_dataloader}"
   ]
  },
  {
   "cell_type": "code",
   "execution_count": 112,
   "id": "ce95da7d-62b1-4bf3-8afa-ef0027228527",
   "metadata": {},
   "outputs": [
    {
     "name": "stdout",
     "output_type": "stream",
     "text": [
      "classifier.6.weight\n",
      "classifier.6.bias\n"
     ]
    }
   ],
   "source": [
    "net = models.vgg16(weights=models.VGG16_Weights.IMAGENET1K_V1)\n",
    "net.classifier[6] = nn.Linear(in_features=4096, out_features=20)\n",
    "net.train()\n",
    "\n",
    "criterion = nn.CrossEntropyLoss()\n",
    "optimizer = optim.Adam(params=params_to_update, lr=0.001)\n",
    "\n",
    "params_to_update = []\n",
    "update_param_names = ['classifier.6.weight', 'classifier.6.bias']\n",
    "\n",
    "for name, param in net.named_parameters():\n",
    "    if name in update_param_names:\n",
    "        param.requires_grad = True\n",
    "        params_to_update.append(param)\n",
    "        print(name)\n",
    "    else:\n",
    "        param.required_grad = False"
   ]
  },
  {
   "cell_type": "code",
   "execution_count": null,
   "id": "ebce053b-c178-4d4a-8bd2-d993ea445488",
   "metadata": {},
   "outputs": [
    {
     "name": "stdout",
     "output_type": "stream",
     "text": [
      "Epoch 1/2\n",
      "---------------\n",
      "Epoch 2/2\n",
      "---------------\n"
     ]
    },
    {
     "name": "stderr",
     "output_type": "stream",
     "text": [
      " 78% 976/1250 [22:08<06:25,  1.41s/it]"
     ]
    }
   ],
   "source": [
    "num_epochs = 2\n",
    "train_model(net, dataloaders_dict, criterion, optimizer, num_epochs=num_epochs)"
   ]
  },
  {
   "cell_type": "code",
   "execution_count": null,
   "id": "d63d89f8-b116-4299-936d-b07ce28d7224",
   "metadata": {},
   "outputs": [],
   "source": []
  }
 ],
 "metadata": {
  "kernelspec": {
   "display_name": "Python 3 (ipykernel)",
   "language": "python",
   "name": "python3"
  },
  "language_info": {
   "codemirror_mode": {
    "name": "ipython",
    "version": 3
   },
   "file_extension": ".py",
   "mimetype": "text/x-python",
   "name": "python",
   "nbconvert_exporter": "python",
   "pygments_lexer": "ipython3",
   "version": "3.12.2"
  }
 },
 "nbformat": 4,
 "nbformat_minor": 5
}
